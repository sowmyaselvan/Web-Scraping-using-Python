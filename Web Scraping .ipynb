{
 "cells": [
  {
   "cell_type": "markdown",
   "id": "d1cda5ee",
   "metadata": {},
   "source": [
    "# Web Scraping using Python BeautifulSoup"
   ]
  },
  {
   "cell_type": "markdown",
   "id": "07082244",
   "metadata": {},
   "source": [
    "## FAANGM Stock data scraping from Yahoo Finance"
   ]
  },
  {
   "cell_type": "code",
   "execution_count": 4,
   "id": "527bdcfd",
   "metadata": {
    "scrolled": true
   },
   "outputs": [],
   "source": [
    "import requests\n",
    "from bs4 import BeautifulSoup\n",
    "import json\n",
    "import pandas as pd"
   ]
  },
  {
   "cell_type": "code",
   "execution_count": 5,
   "id": "48304be4",
   "metadata": {},
   "outputs": [],
   "source": [
    "url =\"https://finance.yahoo.com/quote/NFLX\""
   ]
  },
  {
   "cell_type": "code",
   "execution_count": 6,
   "id": "15a85f1a",
   "metadata": {},
   "outputs": [],
   "source": [
    "req = requests.get(url)"
   ]
  },
  {
   "cell_type": "code",
   "execution_count": 7,
   "id": "f970f85d",
   "metadata": {},
   "outputs": [
    {
     "data": {
      "text/plain": [
       "200"
      ]
     },
     "execution_count": 7,
     "metadata": {},
     "output_type": "execute_result"
    }
   ],
   "source": [
    "req.status_code"
   ]
  },
  {
   "cell_type": "code",
   "execution_count": 132,
   "id": "248f47e9",
   "metadata": {},
   "outputs": [],
   "source": [
    "#req.text"
   ]
  },
  {
   "cell_type": "code",
   "execution_count": 9,
   "id": "019ab9f5",
   "metadata": {},
   "outputs": [],
   "source": [
    "soup = BeautifulSoup(req.text,'html.parser')"
   ]
  },
  {
   "cell_type": "code",
   "execution_count": 10,
   "id": "c7e31ce4",
   "metadata": {},
   "outputs": [
    {
     "name": "stdout",
     "output_type": "stream",
     "text": [
      "Netflix, Inc. (NFLX) Stock Price, News, Quote & History - Yahoo Finance\n"
     ]
    }
   ],
   "source": [
    "print(soup.title.text)"
   ]
  },
  {
   "cell_type": "code",
   "execution_count": 11,
   "id": "e8338259",
   "metadata": {},
   "outputs": [],
   "source": [
    "price = soup.find('div',{'class' : 'D(ib) Mend(20px)'}).find_all('fin-streamer')[0].text\n",
    "change = soup.find('div',{'class' : 'D(ib) Mend(20px)'}).find_all('fin-streamer')[1].text\n",
    "percent = soup.find('div',{'class' : 'D(ib) Mend(20px)'}).find_all('fin-streamer')[2].text"
   ]
  },
  {
   "cell_type": "code",
   "execution_count": 12,
   "id": "85b3cb44",
   "metadata": {},
   "outputs": [
    {
     "name": "stdout",
     "output_type": "stream",
     "text": [
      "361.20 -4.73 (-1.29%)\n"
     ]
    }
   ],
   "source": [
    "print(price,change,percent)"
   ]
  },
  {
   "cell_type": "code",
   "execution_count": 13,
   "id": "275e34a6",
   "metadata": {},
   "outputs": [],
   "source": [
    "def getData(comp):\n",
    "    url =f'https://finance.yahoo.com/quote/{comp}'\n",
    "    req = requests.get(url)\n",
    "    soup = BeautifulSoup(req.text,'html.parser')\n",
    "    stock = {\n",
    "        'comp' : comp,\n",
    "        'price' : soup.find('div',{'class' : 'D(ib) Mend(20px)'}).find_all('fin-streamer')[0].text,\n",
    "        'change' : soup.find('div',{'class' : 'D(ib) Mend(20px)'}).find_all('fin-streamer')[1].text,\n",
    "        'percent' : soup.find('div',{'class' : 'D(ib) Mend(20px)'}).find_all('fin-streamer')[2].text,\n",
    "            }\n",
    "    return stock"
   ]
  },
  {
   "cell_type": "code",
   "execution_count": 14,
   "id": "b015d10f",
   "metadata": {},
   "outputs": [
    {
     "data": {
      "text/plain": [
       "{'comp': 'NFLX', 'price': '361.20', 'change': '-4.73', 'percent': '(-1.29%)'}"
      ]
     },
     "execution_count": 14,
     "metadata": {},
     "output_type": "execute_result"
    }
   ],
   "source": [
    "getData('NFLX')"
   ]
  },
  {
   "cell_type": "code",
   "execution_count": 15,
   "id": "ff28642d",
   "metadata": {},
   "outputs": [
    {
     "data": {
      "text/plain": [
       "{'comp': 'GOOG', 'price': '140.29', 'change': '-1.41', 'percent': '(-1.00%)'}"
      ]
     },
     "execution_count": 15,
     "metadata": {},
     "output_type": "execute_result"
    }
   ],
   "source": [
    "getData('GOOG')"
   ]
  },
  {
   "cell_type": "code",
   "execution_count": 16,
   "id": "d94bd8ba",
   "metadata": {},
   "outputs": [
    {
     "data": {
      "text/plain": [
       "{'comp': 'PXD', 'price': '240.36', 'change': '-0.46', 'percent': '(-0.19%)'}"
      ]
     },
     "execution_count": 16,
     "metadata": {},
     "output_type": "execute_result"
    }
   ],
   "source": [
    "getData('PXD')"
   ]
  },
  {
   "cell_type": "code",
   "execution_count": 17,
   "id": "a0d5192b",
   "metadata": {},
   "outputs": [
    {
     "name": "stdout",
     "output_type": "stream",
     "text": [
      "Stock Price of : META\n",
      "Stock Price of : NFLX\n",
      "Stock Price of : GOOG\n",
      "Stock Price of : MSFT\n",
      "Stock Price of : AAPL\n",
      "Stock Price of : AMZN\n",
      "[{'comp': 'META', 'price': '324.16', 'change': '-3.66', 'percent': '(-1.12%)'}, {'comp': 'NFLX', 'price': '361.20', 'change': '-4.73', 'percent': '(-1.29%)'}, {'comp': 'GOOG', 'price': '140.29', 'change': '-1.41', 'percent': '(-1.00%)'}, {'comp': 'MSFT', 'price': '331.16', 'change': '-1.26', 'percent': '(-0.38%)'}, {'comp': 'AAPL', 'price': '180.71', 'change': '+0.91', 'percent': '(+0.51%)'}, {'comp': 'AMZN', 'price': '132.33', 'change': '+0.50', 'percent': '(+0.38%)'}]\n"
     ]
    }
   ],
   "source": [
    "mystocks = ['META','NFLX','GOOG','MSFT','AAPL','AMZN']\n",
    "stockData = []\n",
    "\n",
    "def getData(comp):\n",
    "    url =f'https://finance.yahoo.com/quote/{comp}'\n",
    "    req = requests.get(url)\n",
    "    soup = BeautifulSoup(req.text,'html.parser')\n",
    "    stock = {\n",
    "        'comp' : comp,\n",
    "        'price' : soup.find('div',{'class' : 'D(ib) Mend(20px)'}).find_all('fin-streamer')[0].text,\n",
    "        'change' : soup.find('div',{'class' : 'D(ib) Mend(20px)'}).find_all('fin-streamer')[1].text,\n",
    "        'percent' : soup.find('div',{'class' : 'D(ib) Mend(20px)'}).find_all('fin-streamer')[2].text,\n",
    "            }\n",
    "    return stock\n",
    "\n",
    "for i in mystocks:\n",
    "    stockData.append(getData(i))\n",
    "    print('Stock Price of :',i)\n",
    "    \n",
    "print(stockData)    "
   ]
  },
  {
   "cell_type": "markdown",
   "id": "f523d7bc",
   "metadata": {},
   "source": [
    "### Storing Retrieved data in JSON and CSV format "
   ]
  },
  {
   "cell_type": "code",
   "execution_count": 18,
   "id": "048dbea4",
   "metadata": {},
   "outputs": [
    {
     "name": "stdout",
     "output_type": "stream",
     "text": [
      "Stock : META\n",
      "Stock : NFLX\n",
      "Stock : GOOG\n",
      "Stock : MSFT\n",
      "Stock : AAPL\n",
      "Stock : AMZN\n"
     ]
    }
   ],
   "source": [
    "mystocks = ['META','NFLX','GOOG','MSFT','AAPL','AMZN']\n",
    "stockData = []\n",
    "\n",
    "def getData(comp):\n",
    "    url =f'https://finance.yahoo.com/quote/{comp}'\n",
    "    req = requests.get(url)\n",
    "    soup = BeautifulSoup(req.text,'html.parser')\n",
    "    stock = {\n",
    "        'comp' : comp,\n",
    "        'price' : soup.find('div',{'class' : 'D(ib) Mend(20px)'}).find_all('fin-streamer')[0].text,\n",
    "        'change' : soup.find('div',{'class' : 'D(ib) Mend(20px)'}).find_all('fin-streamer')[1].text,\n",
    "        'percent' : soup.find('div',{'class' : 'D(ib) Mend(20px)'}).find_all('fin-streamer')[2].text,\n",
    "            }\n",
    "    return stock\n",
    "\n",
    "for i in mystocks:\n",
    "    stockData.append(getData(i))\n",
    "    print('Stock :',i)\n",
    "\n",
    "with open('stockData.json','w') as f:\n",
    "    json.dump(stockData,f)\n",
    "    \n",
    "df = pd.DataFrame(stockData) \n",
    "df.to_csv('stockData.csv')"
   ]
  },
  {
   "cell_type": "markdown",
   "id": "ed50c8ee",
   "metadata": {},
   "source": [
    "## Web Scraping IMDB to retrieve Movie details"
   ]
  },
  {
   "cell_type": "code",
   "execution_count": 19,
   "id": "e59c5e15",
   "metadata": {},
   "outputs": [
    {
     "data": {
      "text/plain": [
       "200"
      ]
     },
     "execution_count": 19,
     "metadata": {},
     "output_type": "execute_result"
    }
   ],
   "source": [
    "imdb_url = 'https://www.imdb.com/search/title/?title_type=feature&year=2022-01-01,2022-12-31&sort=num_votes,desc'\n",
    "r = requests.get(imdb_url)\n",
    "r.status_code"
   ]
  },
  {
   "cell_type": "code",
   "execution_count": 130,
   "id": "6b1e2fbf",
   "metadata": {},
   "outputs": [],
   "source": [
    "#r.text"
   ]
  },
  {
   "cell_type": "code",
   "execution_count": 21,
   "id": "00949660",
   "metadata": {},
   "outputs": [],
   "source": [
    "imdb_soup = BeautifulSoup(r.text, 'html.parser')"
   ]
  },
  {
   "cell_type": "code",
   "execution_count": 131,
   "id": "b69274d2",
   "metadata": {},
   "outputs": [],
   "source": [
    "#print(imdb_soup.prettify())"
   ]
  },
  {
   "cell_type": "code",
   "execution_count": 23,
   "id": "e9ee92de",
   "metadata": {},
   "outputs": [
    {
     "data": {
      "text/plain": [
       "'Feature Film,\\nReleased between 2022-01-01 and 2022-12-31\\n(Sorted by Number of Votes Descending) - IMDb'"
      ]
     },
     "execution_count": 23,
     "metadata": {},
     "output_type": "execute_result"
    }
   ],
   "source": [
    "imdb_soup.title.text"
   ]
  },
  {
   "cell_type": "code",
   "execution_count": 24,
   "id": "b7cb35ed",
   "metadata": {},
   "outputs": [],
   "source": [
    "movie_containers = imdb_soup.find_all('div', class_ = 'lister-item mode-advanced')"
   ]
  },
  {
   "cell_type": "code",
   "execution_count": 25,
   "id": "dfc091e8",
   "metadata": {},
   "outputs": [
    {
     "data": {
      "text/plain": [
       "50"
      ]
     },
     "execution_count": 25,
     "metadata": {},
     "output_type": "execute_result"
    }
   ],
   "source": [
    "len(movie_containers)"
   ]
  },
  {
   "cell_type": "code",
   "execution_count": 133,
   "id": "1c835b22",
   "metadata": {},
   "outputs": [],
   "source": [
    "#movie_containers[0]"
   ]
  },
  {
   "cell_type": "code",
   "execution_count": 27,
   "id": "cabc8b31",
   "metadata": {},
   "outputs": [
    {
     "data": {
      "text/plain": [
       "<h3 class=\"lister-item-header\">\n",
       "<span class=\"lister-item-index unbold text-primary\">1.</span>\n",
       "<a href=\"/title/tt1877830/\">The Batman</a>\n",
       "<span class=\"lister-item-year text-muted unbold\">(2022)</span>\n",
       "</h3>"
      ]
     },
     "execution_count": 27,
     "metadata": {},
     "output_type": "execute_result"
    }
   ],
   "source": [
    "movie_containers[0].h3"
   ]
  },
  {
   "cell_type": "code",
   "execution_count": 28,
   "id": "581a71db",
   "metadata": {},
   "outputs": [
    {
     "data": {
      "text/plain": [
       "<h3 class=\"lister-item-header\">\n",
       "<span class=\"lister-item-index unbold text-primary\">1.</span>\n",
       "<a href=\"/title/tt1877830/\">The Batman</a>\n",
       "<span class=\"lister-item-year text-muted unbold\">(2022)</span>\n",
       "</h3>"
      ]
     },
     "execution_count": 28,
     "metadata": {},
     "output_type": "execute_result"
    }
   ],
   "source": [
    "movie_containers[0].h3"
   ]
  },
  {
   "cell_type": "code",
   "execution_count": 29,
   "id": "cf432f38",
   "metadata": {},
   "outputs": [],
   "source": [
    "name = movie_containers[0].h3.a.text"
   ]
  },
  {
   "cell_type": "code",
   "execution_count": 30,
   "id": "b726b101",
   "metadata": {},
   "outputs": [
    {
     "name": "stdout",
     "output_type": "stream",
     "text": [
      "The Batman\n"
     ]
    }
   ],
   "source": [
    "print(name)"
   ]
  },
  {
   "cell_type": "code",
   "execution_count": 31,
   "id": "035d9e23",
   "metadata": {},
   "outputs": [],
   "source": [
    "year = movie_containers[0].h3.find('span',{'class' : 'lister-item-year text-muted unbold' }).text"
   ]
  },
  {
   "cell_type": "code",
   "execution_count": 32,
   "id": "ac0b1fd5",
   "metadata": {},
   "outputs": [
    {
     "name": "stdout",
     "output_type": "stream",
     "text": [
      "(2022)\n"
     ]
    }
   ],
   "source": [
    "print(year)"
   ]
  },
  {
   "cell_type": "code",
   "execution_count": 33,
   "id": "59813965",
   "metadata": {},
   "outputs": [],
   "source": [
    "rating = movie_containers[0].strong.text"
   ]
  },
  {
   "cell_type": "code",
   "execution_count": 34,
   "id": "07814e53",
   "metadata": {},
   "outputs": [
    {
     "name": "stdout",
     "output_type": "stream",
     "text": [
      "7.8\n"
     ]
    }
   ],
   "source": [
    "print(rating)"
   ]
  },
  {
   "cell_type": "code",
   "execution_count": 35,
   "id": "b04de1d6",
   "metadata": {},
   "outputs": [],
   "source": [
    "runtime = movie_containers[0].find('span', class_ = \"runtime\").text"
   ]
  },
  {
   "cell_type": "code",
   "execution_count": 36,
   "id": "f3c0ba53",
   "metadata": {},
   "outputs": [
    {
     "name": "stdout",
     "output_type": "stream",
     "text": [
      "176 min\n"
     ]
    }
   ],
   "source": [
    "print(runtime)"
   ]
  },
  {
   "cell_type": "code",
   "execution_count": 37,
   "id": "4158eae2",
   "metadata": {},
   "outputs": [],
   "source": [
    "dir = movie_containers[0].find('p', class_ = \"\").a.text"
   ]
  },
  {
   "cell_type": "code",
   "execution_count": 38,
   "id": "0702344d",
   "metadata": {},
   "outputs": [
    {
     "name": "stdout",
     "output_type": "stream",
     "text": [
      "Matt Reeves\n"
     ]
    }
   ],
   "source": [
    "print(dir)"
   ]
  },
  {
   "cell_type": "code",
   "execution_count": 39,
   "id": "ec9e539f",
   "metadata": {},
   "outputs": [],
   "source": [
    "metascore = int(movie_containers[0].find('span', class_ = \"metascore favorable\").text)"
   ]
  },
  {
   "cell_type": "code",
   "execution_count": 40,
   "id": "ab863277",
   "metadata": {},
   "outputs": [
    {
     "data": {
      "text/plain": [
       "72"
      ]
     },
     "execution_count": 40,
     "metadata": {},
     "output_type": "execute_result"
    }
   ],
   "source": [
    "metascore"
   ]
  },
  {
   "cell_type": "code",
   "execution_count": 41,
   "id": "3716f114",
   "metadata": {},
   "outputs": [],
   "source": [
    "#span data-value=\"736356\" name=\"nv\">736,356</span>\n",
    "votes = int(movie_containers[0].find('span', {'name' : \"nv\"})['data-value'])"
   ]
  },
  {
   "cell_type": "code",
   "execution_count": 42,
   "id": "4662f9a6",
   "metadata": {
    "scrolled": true
   },
   "outputs": [
    {
     "data": {
      "text/plain": [
       "736532"
      ]
     },
     "execution_count": 42,
     "metadata": {},
     "output_type": "execute_result"
    }
   ],
   "source": [
    "votes"
   ]
  },
  {
   "cell_type": "code",
   "execution_count": 43,
   "id": "92aa086b",
   "metadata": {},
   "outputs": [],
   "source": [
    "genre_one = movie_containers[0].find('span',{'class' : 'genre'})"
   ]
  },
  {
   "cell_type": "code",
   "execution_count": 44,
   "id": "148f2ac3",
   "metadata": {},
   "outputs": [
    {
     "data": {
      "text/plain": [
       "<span class=\"genre\">\n",
       "Action, Crime, Drama            </span>"
      ]
     },
     "execution_count": 44,
     "metadata": {},
     "output_type": "execute_result"
    }
   ],
   "source": [
    "genre_one"
   ]
  },
  {
   "cell_type": "code",
   "execution_count": 45,
   "id": "fa39aeeb",
   "metadata": {},
   "outputs": [
    {
     "data": {
      "text/plain": [
       "<div class=\"inline-block ratings-metascore\">\n",
       "<span class=\"metascore favorable\">81        </span>\n",
       "        Metascore\n",
       "            </div>"
      ]
     },
     "execution_count": 45,
     "metadata": {},
     "output_type": "execute_result"
    }
   ],
   "source": [
    "eighth_movie_metascore = movie_containers[6].find('div', class_ = 'ratings-metascore')\n",
    "eighth_movie_metascore"
   ]
  },
  {
   "cell_type": "code",
   "execution_count": 121,
   "id": "5b826d20",
   "metadata": {},
   "outputs": [],
   "source": [
    "pages = [str(i) for i in range(1,5)]\n",
    "years_url = [str(i) for i in range(2000, 2022)] "
   ]
  },
  {
   "cell_type": "code",
   "execution_count": 122,
   "id": "b5a16229",
   "metadata": {},
   "outputs": [],
   "source": [
    "names = []\n",
    "years = []\n",
    "votes = []\n",
    "metascores = []\n",
    "imdb_ratings = []\n",
    "genres = []\n",
    "runtimes = []\n",
    "directors = []\n",
    "grosss = []\n",
    "\n",
    "\n",
    "for year_url in years_url:\n",
    "    for page in pages:\n",
    "        page_html = BeautifulSoup(r.text, 'html.parser')\n",
    "        mv_containers = page_html.find_all('div', class_ = 'lister-item mode-advanced')\n",
    "        for container in mv_containers:\n",
    "            if container.find('div', class_ = 'ratings-metascore') is not None:\n",
    "#name   \n",
    "                name = container.h3.a.text\n",
    "                names.append(name)\n",
    "#year\n",
    "                year = container.find('span', class_ = \"lister-item-year\").text\n",
    "                years.append(year)\n",
    "#rating\n",
    "                rating = float(container.strong.text)\n",
    "                imdb_ratings.append(rating)\n",
    "#votes\n",
    "                vote = container.find('span', attrs = {'name':'nv'})['data-value']\n",
    "                votes.append(int(vote))\n",
    "#metascore\n",
    "                score = container.find('span', class_ = 'metascore').text\n",
    "                metascores.append(int(score))\n",
    "#genre\n",
    "                genre = container.find('span', class_ = \"genre\").text.strip()\n",
    "                genres.append(genre)\n",
    "#runtime\n",
    "                runtime = container.find('span', class_ = \"runtime\").text\n",
    "                runtimes.append(runtime)\n",
    "#director       \n",
    "                director = container.find('p', class_ = \"\").a.text\n",
    "                directors.append(director)\n",
    "#gross\n",
    "                gross = container.find('span', attrs = {'name':'nv'})['data-value'][1]\n",
    "                grosss.append(int(gross))"
   ]
  },
  {
   "cell_type": "code",
   "execution_count": 123,
   "id": "3ad1d67a",
   "metadata": {},
   "outputs": [],
   "source": [
    "test_df = pd.DataFrame({'Movie':names, 'Year': years, 'IMDB': imdb_ratings, 'Metascore': metascores, 'Votes':votes, 'Runtime' : runtimes, 'Director':directors, 'Genre':genres})"
   ]
  },
  {
   "cell_type": "code",
   "execution_count": 124,
   "id": "044aaa5c",
   "metadata": {},
   "outputs": [
    {
     "data": {
      "text/html": [
       "<div>\n",
       "<style scoped>\n",
       "    .dataframe tbody tr th:only-of-type {\n",
       "        vertical-align: middle;\n",
       "    }\n",
       "\n",
       "    .dataframe tbody tr th {\n",
       "        vertical-align: top;\n",
       "    }\n",
       "\n",
       "    .dataframe thead th {\n",
       "        text-align: right;\n",
       "    }\n",
       "</style>\n",
       "<table border=\"1\" class=\"dataframe\">\n",
       "  <thead>\n",
       "    <tr style=\"text-align: right;\">\n",
       "      <th></th>\n",
       "      <th>Movie</th>\n",
       "      <th>Year</th>\n",
       "      <th>IMDB</th>\n",
       "      <th>Metascore</th>\n",
       "      <th>Votes</th>\n",
       "      <th>Runtime</th>\n",
       "      <th>Director</th>\n",
       "      <th>Genre</th>\n",
       "    </tr>\n",
       "  </thead>\n",
       "  <tbody>\n",
       "    <tr>\n",
       "      <th>0</th>\n",
       "      <td>The Batman</td>\n",
       "      <td>(2022)</td>\n",
       "      <td>7.8</td>\n",
       "      <td>72</td>\n",
       "      <td>736532</td>\n",
       "      <td>176 min</td>\n",
       "      <td>Matt Reeves</td>\n",
       "      <td>Action, Crime, Drama</td>\n",
       "    </tr>\n",
       "    <tr>\n",
       "      <th>1</th>\n",
       "      <td>Top Gun: Maverick</td>\n",
       "      <td>(2022)</td>\n",
       "      <td>8.3</td>\n",
       "      <td>78</td>\n",
       "      <td>634206</td>\n",
       "      <td>130 min</td>\n",
       "      <td>Joseph Kosinski</td>\n",
       "      <td>Action, Drama</td>\n",
       "    </tr>\n",
       "    <tr>\n",
       "      <th>2</th>\n",
       "      <td>Everything Everywhere All at Once</td>\n",
       "      <td>(2022)</td>\n",
       "      <td>7.8</td>\n",
       "      <td>81</td>\n",
       "      <td>482646</td>\n",
       "      <td>139 min</td>\n",
       "      <td>Daniel Kwan</td>\n",
       "      <td>Action, Adventure, Comedy</td>\n",
       "    </tr>\n",
       "    <tr>\n",
       "      <th>3</th>\n",
       "      <td>Avatar: The Way of Water</td>\n",
       "      <td>(2022)</td>\n",
       "      <td>7.6</td>\n",
       "      <td>67</td>\n",
       "      <td>462939</td>\n",
       "      <td>192 min</td>\n",
       "      <td>James Cameron</td>\n",
       "      <td>Action, Adventure, Fantasy</td>\n",
       "    </tr>\n",
       "    <tr>\n",
       "      <th>4</th>\n",
       "      <td>Doctor Strange in the Multiverse of Madness</td>\n",
       "      <td>(2022)</td>\n",
       "      <td>6.9</td>\n",
       "      <td>60</td>\n",
       "      <td>455443</td>\n",
       "      <td>126 min</td>\n",
       "      <td>Sam Raimi</td>\n",
       "      <td>Action, Adventure, Fantasy</td>\n",
       "    </tr>\n",
       "    <tr>\n",
       "      <th>...</th>\n",
       "      <td>...</td>\n",
       "      <td>...</td>\n",
       "      <td>...</td>\n",
       "      <td>...</td>\n",
       "      <td>...</td>\n",
       "      <td>...</td>\n",
       "      <td>...</td>\n",
       "      <td>...</td>\n",
       "    </tr>\n",
       "    <tr>\n",
       "      <th>4131</th>\n",
       "      <td>The Pale Blue Eye</td>\n",
       "      <td>(2022)</td>\n",
       "      <td>6.6</td>\n",
       "      <td>56</td>\n",
       "      <td>115206</td>\n",
       "      <td>128 min</td>\n",
       "      <td>Scott Cooper</td>\n",
       "      <td>Crime, Horror, Mystery</td>\n",
       "    </tr>\n",
       "    <tr>\n",
       "      <th>4132</th>\n",
       "      <td>Brahmastra Part One: Shiva</td>\n",
       "      <td>(2022)</td>\n",
       "      <td>5.6</td>\n",
       "      <td>57</td>\n",
       "      <td>110008</td>\n",
       "      <td>167 min</td>\n",
       "      <td>Ayan Mukerji</td>\n",
       "      <td>Action, Adventure, Fantasy</td>\n",
       "    </tr>\n",
       "    <tr>\n",
       "      <th>4133</th>\n",
       "      <td>Where the Crawdads Sing</td>\n",
       "      <td>(2022)</td>\n",
       "      <td>7.2</td>\n",
       "      <td>43</td>\n",
       "      <td>108566</td>\n",
       "      <td>125 min</td>\n",
       "      <td>Olivia Newman</td>\n",
       "      <td>Drama, Mystery, Romance</td>\n",
       "    </tr>\n",
       "    <tr>\n",
       "      <th>4134</th>\n",
       "      <td>Guillermo del Toro's Pinocchio</td>\n",
       "      <td>(2022)</td>\n",
       "      <td>7.6</td>\n",
       "      <td>79</td>\n",
       "      <td>105476</td>\n",
       "      <td>117 min</td>\n",
       "      <td>Guillermo del Toro</td>\n",
       "      <td>Animation, Drama, Family</td>\n",
       "    </tr>\n",
       "    <tr>\n",
       "      <th>4135</th>\n",
       "      <td>The Fabelmans</td>\n",
       "      <td>(2022)</td>\n",
       "      <td>7.5</td>\n",
       "      <td>84</td>\n",
       "      <td>103788</td>\n",
       "      <td>151 min</td>\n",
       "      <td>Steven Spielberg</td>\n",
       "      <td>Drama</td>\n",
       "    </tr>\n",
       "  </tbody>\n",
       "</table>\n",
       "<p>4136 rows × 8 columns</p>\n",
       "</div>"
      ],
      "text/plain": [
       "                                            Movie    Year  IMDB  Metascore  \\\n",
       "0                                      The Batman  (2022)   7.8         72   \n",
       "1                               Top Gun: Maverick  (2022)   8.3         78   \n",
       "2               Everything Everywhere All at Once  (2022)   7.8         81   \n",
       "3                        Avatar: The Way of Water  (2022)   7.6         67   \n",
       "4     Doctor Strange in the Multiverse of Madness  (2022)   6.9         60   \n",
       "...                                           ...     ...   ...        ...   \n",
       "4131                            The Pale Blue Eye  (2022)   6.6         56   \n",
       "4132                   Brahmastra Part One: Shiva  (2022)   5.6         57   \n",
       "4133                      Where the Crawdads Sing  (2022)   7.2         43   \n",
       "4134               Guillermo del Toro's Pinocchio  (2022)   7.6         79   \n",
       "4135                                The Fabelmans  (2022)   7.5         84   \n",
       "\n",
       "       Votes  Runtime            Director                       Genre  \n",
       "0     736532  176 min         Matt Reeves        Action, Crime, Drama  \n",
       "1     634206  130 min     Joseph Kosinski               Action, Drama  \n",
       "2     482646  139 min         Daniel Kwan   Action, Adventure, Comedy  \n",
       "3     462939  192 min       James Cameron  Action, Adventure, Fantasy  \n",
       "4     455443  126 min           Sam Raimi  Action, Adventure, Fantasy  \n",
       "...      ...      ...                 ...                         ...  \n",
       "4131  115206  128 min        Scott Cooper      Crime, Horror, Mystery  \n",
       "4132  110008  167 min        Ayan Mukerji  Action, Adventure, Fantasy  \n",
       "4133  108566  125 min       Olivia Newman     Drama, Mystery, Romance  \n",
       "4134  105476  117 min  Guillermo del Toro    Animation, Drama, Family  \n",
       "4135  103788  151 min    Steven Spielberg                       Drama  \n",
       "\n",
       "[4136 rows x 8 columns]"
      ]
     },
     "execution_count": 124,
     "metadata": {},
     "output_type": "execute_result"
    }
   ],
   "source": [
    "test_df"
   ]
  },
  {
   "cell_type": "code",
   "execution_count": 125,
   "id": "1d70e9d3",
   "metadata": {},
   "outputs": [
    {
     "data": {
      "text/html": [
       "<div>\n",
       "<style scoped>\n",
       "    .dataframe tbody tr th:only-of-type {\n",
       "        vertical-align: middle;\n",
       "    }\n",
       "\n",
       "    .dataframe tbody tr th {\n",
       "        vertical-align: top;\n",
       "    }\n",
       "\n",
       "    .dataframe thead th {\n",
       "        text-align: right;\n",
       "    }\n",
       "</style>\n",
       "<table border=\"1\" class=\"dataframe\">\n",
       "  <thead>\n",
       "    <tr style=\"text-align: right;\">\n",
       "      <th></th>\n",
       "      <th>Movie</th>\n",
       "      <th>Year</th>\n",
       "      <th>IMDB</th>\n",
       "      <th>Metascore</th>\n",
       "      <th>Votes</th>\n",
       "      <th>Runtime</th>\n",
       "      <th>Director</th>\n",
       "      <th>Genre</th>\n",
       "    </tr>\n",
       "  </thead>\n",
       "  <tbody>\n",
       "    <tr>\n",
       "      <th>4131</th>\n",
       "      <td>The Pale Blue Eye</td>\n",
       "      <td>(2022)</td>\n",
       "      <td>6.6</td>\n",
       "      <td>56</td>\n",
       "      <td>115206</td>\n",
       "      <td>128 min</td>\n",
       "      <td>Scott Cooper</td>\n",
       "      <td>Crime, Horror, Mystery</td>\n",
       "    </tr>\n",
       "    <tr>\n",
       "      <th>4132</th>\n",
       "      <td>Brahmastra Part One: Shiva</td>\n",
       "      <td>(2022)</td>\n",
       "      <td>5.6</td>\n",
       "      <td>57</td>\n",
       "      <td>110008</td>\n",
       "      <td>167 min</td>\n",
       "      <td>Ayan Mukerji</td>\n",
       "      <td>Action, Adventure, Fantasy</td>\n",
       "    </tr>\n",
       "    <tr>\n",
       "      <th>4133</th>\n",
       "      <td>Where the Crawdads Sing</td>\n",
       "      <td>(2022)</td>\n",
       "      <td>7.2</td>\n",
       "      <td>43</td>\n",
       "      <td>108566</td>\n",
       "      <td>125 min</td>\n",
       "      <td>Olivia Newman</td>\n",
       "      <td>Drama, Mystery, Romance</td>\n",
       "    </tr>\n",
       "    <tr>\n",
       "      <th>4134</th>\n",
       "      <td>Guillermo del Toro's Pinocchio</td>\n",
       "      <td>(2022)</td>\n",
       "      <td>7.6</td>\n",
       "      <td>79</td>\n",
       "      <td>105476</td>\n",
       "      <td>117 min</td>\n",
       "      <td>Guillermo del Toro</td>\n",
       "      <td>Animation, Drama, Family</td>\n",
       "    </tr>\n",
       "    <tr>\n",
       "      <th>4135</th>\n",
       "      <td>The Fabelmans</td>\n",
       "      <td>(2022)</td>\n",
       "      <td>7.5</td>\n",
       "      <td>84</td>\n",
       "      <td>103788</td>\n",
       "      <td>151 min</td>\n",
       "      <td>Steven Spielberg</td>\n",
       "      <td>Drama</td>\n",
       "    </tr>\n",
       "  </tbody>\n",
       "</table>\n",
       "</div>"
      ],
      "text/plain": [
       "                               Movie    Year  IMDB  Metascore   Votes  \\\n",
       "4131               The Pale Blue Eye  (2022)   6.6         56  115206   \n",
       "4132      Brahmastra Part One: Shiva  (2022)   5.6         57  110008   \n",
       "4133         Where the Crawdads Sing  (2022)   7.2         43  108566   \n",
       "4134  Guillermo del Toro's Pinocchio  (2022)   7.6         79  105476   \n",
       "4135                   The Fabelmans  (2022)   7.5         84  103788   \n",
       "\n",
       "      Runtime            Director                       Genre  \n",
       "4131  128 min        Scott Cooper      Crime, Horror, Mystery  \n",
       "4132  167 min        Ayan Mukerji  Action, Adventure, Fantasy  \n",
       "4133  125 min       Olivia Newman     Drama, Mystery, Romance  \n",
       "4134  117 min  Guillermo del Toro    Animation, Drama, Family  \n",
       "4135  151 min    Steven Spielberg                       Drama  "
      ]
     },
     "execution_count": 125,
     "metadata": {},
     "output_type": "execute_result"
    }
   ],
   "source": [
    "test_df = test_df[['Movie', 'Year', 'IMDB', 'Metascore', 'Votes', 'Runtime', 'Director', 'Genre']]\n",
    "test_df.tail()"
   ]
  },
  {
   "cell_type": "code",
   "execution_count": 126,
   "id": "f5606e84",
   "metadata": {},
   "outputs": [
    {
     "name": "stderr",
     "output_type": "stream",
     "text": [
      "C:\\Users\\sowmy\\AppData\\Local\\Temp\\ipykernel_16112\\2842531450.py:1: DeprecationWarning: In a future version, `df.iloc[:, i] = newvals` will attempt to set the values inplace instead of always setting a new array. To retain the old behavior, use either `df[df.columns[i]] = newvals` or, if columns are non-unique, `df.isetitem(i, newvals)`\n",
      "  test_df.loc[:, 'Year'] = test_df['Year'].str[-5:-1].astype(int)\n"
     ]
    }
   ],
   "source": [
    "test_df.loc[:, 'Year'] = test_df['Year'].str[-5:-1].astype(int)"
   ]
  },
  {
   "cell_type": "markdown",
   "id": "a7d36219",
   "metadata": {},
   "source": [
    "## IMDB Dataset for Movies in 2022"
   ]
  },
  {
   "cell_type": "code",
   "execution_count": 127,
   "id": "2ecaab92",
   "metadata": {
    "scrolled": true
   },
   "outputs": [
    {
     "data": {
      "text/html": [
       "<div>\n",
       "<style scoped>\n",
       "    .dataframe tbody tr th:only-of-type {\n",
       "        vertical-align: middle;\n",
       "    }\n",
       "\n",
       "    .dataframe tbody tr th {\n",
       "        vertical-align: top;\n",
       "    }\n",
       "\n",
       "    .dataframe thead th {\n",
       "        text-align: right;\n",
       "    }\n",
       "</style>\n",
       "<table border=\"1\" class=\"dataframe\">\n",
       "  <thead>\n",
       "    <tr style=\"text-align: right;\">\n",
       "      <th></th>\n",
       "      <th>Movie</th>\n",
       "      <th>Year</th>\n",
       "      <th>IMDB</th>\n",
       "      <th>Metascore</th>\n",
       "      <th>Votes</th>\n",
       "      <th>Runtime</th>\n",
       "      <th>Director</th>\n",
       "      <th>Genre</th>\n",
       "    </tr>\n",
       "  </thead>\n",
       "  <tbody>\n",
       "    <tr>\n",
       "      <th>0</th>\n",
       "      <td>The Batman</td>\n",
       "      <td>2022</td>\n",
       "      <td>7.8</td>\n",
       "      <td>72</td>\n",
       "      <td>736532</td>\n",
       "      <td>176 min</td>\n",
       "      <td>Matt Reeves</td>\n",
       "      <td>Action, Crime, Drama</td>\n",
       "    </tr>\n",
       "    <tr>\n",
       "      <th>1</th>\n",
       "      <td>Top Gun: Maverick</td>\n",
       "      <td>2022</td>\n",
       "      <td>8.3</td>\n",
       "      <td>78</td>\n",
       "      <td>634206</td>\n",
       "      <td>130 min</td>\n",
       "      <td>Joseph Kosinski</td>\n",
       "      <td>Action, Drama</td>\n",
       "    </tr>\n",
       "    <tr>\n",
       "      <th>2</th>\n",
       "      <td>Everything Everywhere All at Once</td>\n",
       "      <td>2022</td>\n",
       "      <td>7.8</td>\n",
       "      <td>81</td>\n",
       "      <td>482646</td>\n",
       "      <td>139 min</td>\n",
       "      <td>Daniel Kwan</td>\n",
       "      <td>Action, Adventure, Comedy</td>\n",
       "    </tr>\n",
       "    <tr>\n",
       "      <th>3</th>\n",
       "      <td>Avatar: The Way of Water</td>\n",
       "      <td>2022</td>\n",
       "      <td>7.6</td>\n",
       "      <td>67</td>\n",
       "      <td>462939</td>\n",
       "      <td>192 min</td>\n",
       "      <td>James Cameron</td>\n",
       "      <td>Action, Adventure, Fantasy</td>\n",
       "    </tr>\n",
       "    <tr>\n",
       "      <th>4</th>\n",
       "      <td>Doctor Strange in the Multiverse of Madness</td>\n",
       "      <td>2022</td>\n",
       "      <td>6.9</td>\n",
       "      <td>60</td>\n",
       "      <td>455443</td>\n",
       "      <td>126 min</td>\n",
       "      <td>Sam Raimi</td>\n",
       "      <td>Action, Adventure, Fantasy</td>\n",
       "    </tr>\n",
       "  </tbody>\n",
       "</table>\n",
       "</div>"
      ],
      "text/plain": [
       "                                         Movie  Year  IMDB  Metascore   Votes  \\\n",
       "0                                   The Batman  2022   7.8         72  736532   \n",
       "1                            Top Gun: Maverick  2022   8.3         78  634206   \n",
       "2            Everything Everywhere All at Once  2022   7.8         81  482646   \n",
       "3                     Avatar: The Way of Water  2022   7.6         67  462939   \n",
       "4  Doctor Strange in the Multiverse of Madness  2022   6.9         60  455443   \n",
       "\n",
       "   Runtime         Director                       Genre  \n",
       "0  176 min      Matt Reeves        Action, Crime, Drama  \n",
       "1  130 min  Joseph Kosinski               Action, Drama  \n",
       "2  139 min      Daniel Kwan   Action, Adventure, Comedy  \n",
       "3  192 min    James Cameron  Action, Adventure, Fantasy  \n",
       "4  126 min        Sam Raimi  Action, Adventure, Fantasy  "
      ]
     },
     "execution_count": 127,
     "metadata": {},
     "output_type": "execute_result"
    }
   ],
   "source": [
    "test_df.head()"
   ]
  },
  {
   "cell_type": "code",
   "execution_count": 129,
   "id": "9cbc497c",
   "metadata": {},
   "outputs": [],
   "source": [
    "test_df.to_csv('IMDB_movie_rating5.csv')"
   ]
  },
  {
   "cell_type": "code",
   "execution_count": null,
   "id": "fae79ec5",
   "metadata": {},
   "outputs": [],
   "source": []
  }
 ],
 "metadata": {
  "kernelspec": {
   "display_name": "Python 3 (ipykernel)",
   "language": "python",
   "name": "python3"
  },
  "language_info": {
   "codemirror_mode": {
    "name": "ipython",
    "version": 3
   },
   "file_extension": ".py",
   "mimetype": "text/x-python",
   "name": "python",
   "nbconvert_exporter": "python",
   "pygments_lexer": "ipython3",
   "version": "3.11.3"
  }
 },
 "nbformat": 4,
 "nbformat_minor": 5
}
